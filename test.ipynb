{
  "nbformat": 4,
  "nbformat_minor": 0,
  "metadata": {
    "colab": {
      "name": "test.ipynb",
      "provenance": [],
      "collapsed_sections": [],
      "authorship_tag": "ABX9TyOjVypIT/LuaaqOKgDtlMH9",
      "include_colab_link": true
    },
    "kernelspec": {
      "name": "python3",
      "display_name": "Python 3"
    },
    "language_info": {
      "name": "python"
    }
  },
  "cells": [
    {
      "cell_type": "markdown",
      "metadata": {
        "id": "view-in-github",
        "colab_type": "text"
      },
      "source": [
        "<a href=\"https://colab.research.google.com/github/sayantan2000/CODING-SOLUTIONS/blob/main/test.ipynb\" target=\"_parent\"><img src=\"https://colab.research.google.com/assets/colab-badge.svg\" alt=\"Open In Colab\"/></a>"
      ]
    },
    {
      "cell_type": "markdown",
      "metadata": {
        "id": "8t7pkznsV3SG"
      },
      "source": [
        "**API calling to fetch corresponding ip location & its Weather data**\n"
      ]
    },
    {
      "cell_type": "code",
      "metadata": {
        "id": "4LmWAUkXXUeb"
      },
      "source": [
        "import requests\n",
        "import time\n",
        "\n",
        "\n",
        "params = {\n",
        "  'access_key': 'e901dc6af5a4691320527da322556104',\n",
        "  'query': 'fetch:ip'\n",
        "}\n",
        "\n",
        "#auth = HTTPBasicAuth(apiKey, secret)\n",
        "rsp = requests.get('http://api.weatherstack.com/current',params)\n",
        "data=rsp.json()\n",
        "#current=data[[\"current\"][\"temperature\"],[\"cuurent\"][\"temperature\"]]\n",
        "temp=data['current']['temperature']\n",
        "pressure=data['current']['pressure']\n",
        "wind_speed=data['current']['wind_speed']\n",
        "loacation=data['location']['name']\n",
        "state=data['location']['region']\n",
        "humidity=data['current']['humidity']\n",
        "feelslike=data['current']['feelslike']\n",
        "WeatherDescription=data['current']['weather_descriptions'][0]\n",
        "#Location=data['Location']\n",
        "windspeed=wind_speed\n",
        "\n",
        "final_data={\n",
        "            \"City :\":\"Kolkata\",\n",
        "            \"WeatherDescription :\":WeatherDescription,\n",
        "            \"FeelsLike :\":feelslike,\n",
        "            \"Humidity :\":humidity,\n",
        "            \"WindSpedd :\":wind_speed,\n",
        "            \"Location :\" :loacation,\n",
        "            \"State :\": state,\n",
        "            \"Temperature :\":temp,\n",
        "            \"Air_Pressure :\":pressure,\n",
        "            \"Wind_Speed :\":wind_speed,\n",
        "          }\n",
        "for i,j in final_data.items():\n",
        "  print(i,j)\n",
        "#pprint(data)\n",
        "#print(data[\"data\"][\"statewise\"])\n",
        "time.sleep(4)"
      ],
      "execution_count": null,
      "outputs": []
    },
    {
      "cell_type": "markdown",
      "metadata": {
        "id": "0rMY2P2FV1Mn"
      },
      "source": [
        "**Machine Learning Code to to predict farenhite temp from given celcius value**\n"
      ]
    },
    {
      "cell_type": "code",
      "metadata": {
        "id": "Fkw26dHxSdwA"
      },
      "source": [
        "import tensorflow as tf\n",
        "import matplotlib.pyplot as plt\n",
        "import numpy as np\n",
        "import logging\n",
        "import pandas as pd\n",
        "logger = tf.get_logger()\n",
        "logger.setLevel(logging.ERROR)\n",
        "\n",
        "celsius_q    = np.array([-40, -10,  0,  8, 15, 22,  38],  dtype=int)\n",
        "fahrenheit_a = np.array([-40,  14, 32, 46, 59, 72, 100],  dtype=int)\n",
        "\n",
        "#for i,c in enumerate(celsius_q):\n",
        "  #print(\"{} degrees Celsius = {} degrees Fahrenheit\".format(c, fahrenheit_a[i]))\n",
        "l0 = tf.keras.layers.Dense(units=1, input_shape=[1])\n",
        "model = tf.keras.Sequential([l0])\n",
        "model.compile(loss='mean_squared_error',\n",
        "              optimizer=tf.keras.optimizers.Adam(0.1))\n",
        "l0 = tf.keras.layers.Dense(units=1, input_shape=[1])\n",
        "\n",
        "history = model.fit(celsius_q,fahrenheit_a,epochs=500,verbose=False)\n",
        "print(\"Finished Training the Model\")\n",
        "print(model.predict([-20]))"
      ],
      "execution_count": null,
      "outputs": []
    }
  ]
}